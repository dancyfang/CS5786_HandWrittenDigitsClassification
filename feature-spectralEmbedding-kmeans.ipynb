{
 "cells": [
  {
   "cell_type": "code",
   "execution_count": 1,
   "metadata": {
    "collapsed": true
   },
   "outputs": [],
   "source": [
    "import pandas as pd\n",
    "import numpy as np\n",
    "import csv\n",
    "from scipy.linalg import fractional_matrix_power\n",
    "from sklearn.decomposition import PCA\n",
    "from sklearn.cross_decomposition import CCA\n",
    "from sklearn.cluster import KMeans\n",
    "from sklearn.cluster import SpectralClustering\n",
    "from sklearn.manifold import SpectralEmbedding\n",
    "from sklearn.ensemble import RandomForestClassifier\n",
    "import sklearn.metrics.pairwise as kernel"
   ]
  },
  {
   "cell_type": "code",
   "execution_count": 2,
   "metadata": {
    "collapsed": true
   },
   "outputs": [],
   "source": [
    "N = 10000\n",
    "n = 6000\n",
    "# feature 10000*1084\n",
    "feature = np.genfromtxt('Extracted_features.csv',delimiter = ',',dtype = 'float')\n",
    "# seed 60*2\n",
    "seed = np.genfromtxt('Seed.csv',delimiter = ',',dtype = 'int')\n",
    "# # adjacency matrix A\n",
    "# A = np.zeros((n,n))\n",
    "# with open('Graph.csv','rb') as csvfile:\n",
    "#     reader = csv.reader(csvfile, delimiter=',')\n",
    "#     for row in reader:\n",
    "#         A[int(row[0])-1,int(row[1])-1] = 1\n",
    "#         A[int(row[1])-1,int(row[0])-1] = 1"
   ]
  },
  {
   "cell_type": "code",
   "execution_count": 10,
   "metadata": {},
   "outputs": [
    {
     "name": "stderr",
     "output_type": "stream",
     "text": [
      "C:\\Users\\dancyfang\\Anaconda2\\lib\\site-packages\\sklearn\\cluster\\k_means_.py:889: RuntimeWarning: Explicit initial center position passed: performing only one init in k-means instead of n_init=10\n",
      "  return_n_iter=True)\n"
     ]
    },
    {
     "name": "stdout",
     "output_type": "stream",
     "text": [
      "40 0.6\n",
      "50 0.533333333333\n",
      "60 0.583333333333\n",
      "70 0.6\n",
      "80 0.616666666667\n",
      "90 0.583333333333\n",
      "100 0.6\n"
     ]
    }
   ],
   "source": [
    "A = kernel.rbf_kernel(feature,feature,gamma=0.0078)\n",
    "for nc in range(40,110,10):\n",
    "    X = SpectralEmbedding(n_components=nc,affinity='precomputed').fit_transform(A)\n",
    "    # initialize kmeans with mean of seeds\n",
    "    ip = np.vstack(np.mean(X[seed[seed[:,1] == i,0] - 1,:], axis = 0) for i in range(10))\n",
    "    # kmeans\n",
    "    kmeans = KMeans(n_clusters = 10, init = ip, random_state = 0).fit(X)\n",
    "    # kmeans result of seeds\n",
    "    r1 = np.hstack((seed, np.reshape(kmeans.labels_[seed[:,0] - 1],(len(seed),1))))\n",
    "    print nc, sum(r1[:,1] == r1[:,2])/(1.0*len(r1))\n",
    "    confm = np.zeros((10,10))\n",
    "    for i in range(len(r1)):\n",
    "        confm[r1[i,1],r1[i,2]] += 1\n",
    "    print confm"
   ]
  },
  {
   "cell_type": "code",
   "execution_count": 3,
   "metadata": {},
   "outputs": [
    {
     "name": "stderr",
     "output_type": "stream",
     "text": [
      "C:\\Users\\dancyfang\\Anaconda2\\lib\\site-packages\\sklearn\\cluster\\k_means_.py:889: RuntimeWarning: Explicit initial center position passed: performing only one init in k-means instead of n_init=10\n",
      "  return_n_iter=True)\n"
     ]
    },
    {
     "name": "stdout",
     "output_type": "stream",
     "text": [
      "100 0.6\n",
      "[[ 3.  0.  0.  0.  0.  3.  0.  0.  0.  0.]\n",
      " [ 0.  6.  0.  0.  0.  0.  0.  0.  0.  0.]\n",
      " [ 0.  0.  6.  0.  0.  0.  0.  0.  0.  0.]\n",
      " [ 0.  1.  0.  5.  0.  0.  0.  0.  0.  0.]\n",
      " [ 0.  0.  0.  0.  4.  0.  0.  0.  0.  2.]\n",
      " [ 0.  0.  0.  1.  1.  3.  0.  0.  0.  1.]\n",
      " [ 1.  1.  0.  0.  0.  1.  3.  0.  0.  0.]\n",
      " [ 0.  0.  0.  0.  3.  0.  0.  2.  0.  1.]\n",
      " [ 0.  0.  0.  2.  0.  2.  0.  0.  1.  1.]\n",
      " [ 0.  0.  0.  0.  1.  1.  0.  1.  0.  3.]]\n",
      "110 0.6\n",
      "[[ 3.  0.  0.  0.  0.  3.  0.  0.  0.  0.]\n",
      " [ 0.  6.  0.  0.  0.  0.  0.  0.  0.  0.]\n",
      " [ 0.  0.  6.  0.  0.  0.  0.  0.  0.  0.]\n",
      " [ 0.  1.  0.  4.  0.  0.  0.  0.  1.  0.]\n",
      " [ 0.  0.  0.  0.  4.  0.  0.  0.  0.  2.]\n",
      " [ 0.  0.  0.  1.  2.  2.  0.  0.  0.  1.]\n",
      " [ 1.  1.  0.  0.  0.  1.  3.  0.  0.  0.]\n",
      " [ 0.  0.  0.  0.  2.  0.  0.  3.  0.  1.]\n",
      " [ 0.  0.  0.  2.  0.  1.  0.  0.  2.  1.]\n",
      " [ 0.  0.  0.  0.  0.  1.  0.  1.  1.  3.]]\n",
      "120 0.65\n",
      "[[ 4.  0.  0.  0.  0.  1.  0.  0.  1.  0.]\n",
      " [ 0.  6.  0.  0.  0.  0.  0.  0.  0.  0.]\n",
      " [ 0.  0.  6.  0.  0.  0.  0.  0.  0.  0.]\n",
      " [ 0.  1.  0.  3.  0.  0.  0.  0.  2.  0.]\n",
      " [ 0.  0.  0.  0.  4.  0.  0.  0.  0.  2.]\n",
      " [ 0.  0.  0.  1.  1.  4.  0.  0.  0.  0.]\n",
      " [ 1.  0.  1.  0.  0.  0.  4.  0.  0.  0.]\n",
      " [ 0.  0.  0.  0.  2.  0.  0.  3.  0.  1.]\n",
      " [ 0.  0.  0.  2.  0.  1.  0.  0.  2.  1.]\n",
      " [ 0.  0.  0.  0.  1.  1.  0.  1.  0.  3.]]\n",
      "130 0.666666666667\n",
      "[[ 4.  0.  0.  0.  0.  0.  0.  0.  2.  0.]\n",
      " [ 0.  6.  0.  0.  0.  0.  0.  0.  0.  0.]\n",
      " [ 0.  0.  6.  0.  0.  0.  0.  0.  0.  0.]\n",
      " [ 0.  1.  0.  4.  0.  0.  0.  0.  1.  0.]\n",
      " [ 0.  0.  1.  0.  4.  0.  0.  0.  0.  1.]\n",
      " [ 0.  0.  0.  1.  1.  4.  0.  0.  0.  0.]\n",
      " [ 1.  0.  1.  0.  0.  0.  4.  0.  0.  0.]\n",
      " [ 0.  0.  0.  0.  3.  0.  0.  2.  0.  1.]\n",
      " [ 0.  0.  0.  2.  0.  0.  0.  0.  3.  1.]\n",
      " [ 0.  0.  0.  0.  1.  1.  0.  1.  0.  3.]]\n",
      "140 0.633333333333\n",
      "[[ 4.  0.  0.  0.  0.  2.  0.  0.  0.  0.]\n",
      " [ 0.  6.  0.  0.  0.  0.  0.  0.  0.  0.]\n",
      " [ 0.  0.  6.  0.  0.  0.  0.  0.  0.  0.]\n",
      " [ 0.  1.  0.  3.  0.  0.  0.  0.  2.  0.]\n",
      " [ 0.  0.  1.  0.  4.  0.  0.  0.  0.  1.]\n",
      " [ 0.  0.  0.  1.  1.  4.  0.  0.  0.  0.]\n",
      " [ 0.  1.  1.  0.  0.  0.  3.  0.  1.  0.]\n",
      " [ 0.  0.  0.  0.  3.  0.  0.  2.  0.  1.]\n",
      " [ 0.  1.  0.  1.  0.  1.  0.  0.  3.  0.]\n",
      " [ 0.  0.  0.  0.  1.  1.  0.  1.  0.  3.]]\n",
      "150 0.616666666667\n",
      "[[ 5.  0.  0.  0.  0.  1.  0.  0.  0.  0.]\n",
      " [ 0.  6.  0.  0.  0.  0.  0.  0.  0.  0.]\n",
      " [ 0.  0.  6.  0.  0.  0.  0.  0.  0.  0.]\n",
      " [ 0.  1.  0.  5.  0.  0.  0.  0.  0.  0.]\n",
      " [ 0.  0.  0.  0.  4.  0.  0.  0.  0.  2.]\n",
      " [ 0.  0.  0.  1.  2.  3.  0.  0.  0.  0.]\n",
      " [ 1.  1.  1.  0.  0.  0.  3.  0.  0.  0.]\n",
      " [ 0.  0.  0.  0.  3.  0.  0.  2.  0.  1.]\n",
      " [ 1.  0.  0.  2.  0.  3.  0.  0.  0.  0.]\n",
      " [ 0.  0.  0.  0.  1.  0.  0.  2.  0.  3.]]\n",
      "160 0.633333333333\n",
      "[[ 4.  0.  0.  0.  0.  2.  0.  0.  0.  0.]\n",
      " [ 0.  6.  0.  0.  0.  0.  0.  0.  0.  0.]\n",
      " [ 0.  0.  6.  0.  0.  0.  0.  0.  0.  0.]\n",
      " [ 0.  1.  0.  3.  0.  0.  0.  0.  2.  0.]\n",
      " [ 0.  0.  0.  0.  4.  0.  0.  0.  0.  2.]\n",
      " [ 0.  0.  0.  1.  1.  4.  0.  0.  0.  0.]\n",
      " [ 0.  1.  1.  0.  0.  0.  3.  0.  1.  0.]\n",
      " [ 0.  0.  0.  0.  3.  0.  0.  2.  0.  1.]\n",
      " [ 0.  0.  0.  2.  0.  1.  0.  0.  3.  0.]\n",
      " [ 0.  0.  0.  0.  0.  1.  0.  1.  1.  3.]]\n",
      "170 0.633333333333\n",
      "[[ 4.  0.  0.  0.  0.  2.  0.  0.  0.  0.]\n",
      " [ 0.  6.  0.  0.  0.  0.  0.  0.  0.  0.]\n",
      " [ 0.  0.  6.  0.  0.  0.  0.  0.  0.  0.]\n",
      " [ 0.  1.  0.  4.  0.  0.  0.  0.  1.  0.]\n",
      " [ 0.  0.  0.  0.  4.  0.  0.  0.  0.  2.]\n",
      " [ 0.  0.  0.  1.  1.  4.  0.  0.  0.  0.]\n",
      " [ 0.  1.  1.  0.  0.  0.  3.  0.  1.  0.]\n",
      " [ 0.  0.  0.  0.  3.  0.  0.  2.  0.  1.]\n",
      " [ 0.  0.  0.  2.  0.  1.  0.  0.  2.  1.]\n",
      " [ 0.  0.  0.  0.  1.  1.  0.  1.  0.  3.]]\n",
      "180 0.65\n",
      "[[ 4.  0.  0.  0.  0.  2.  0.  0.  0.  0.]\n",
      " [ 0.  6.  0.  0.  0.  0.  0.  0.  0.  0.]\n",
      " [ 0.  0.  6.  0.  0.  0.  0.  0.  0.  0.]\n",
      " [ 0.  1.  0.  4.  0.  0.  0.  0.  1.  0.]\n",
      " [ 0.  0.  1.  0.  4.  0.  0.  0.  0.  1.]\n",
      " [ 0.  0.  0.  1.  1.  4.  0.  0.  0.  0.]\n",
      " [ 1.  1.  0.  0.  0.  1.  3.  0.  0.  0.]\n",
      " [ 0.  0.  0.  0.  2.  0.  0.  3.  0.  1.]\n",
      " [ 0.  0.  0.  3.  0.  0.  0.  0.  2.  1.]\n",
      " [ 0.  0.  0.  0.  0.  1.  0.  1.  1.  3.]]\n",
      "190 0.683333333333\n",
      "[[ 4.  0.  0.  0.  0.  2.  0.  0.  0.  0.]\n",
      " [ 0.  6.  0.  0.  0.  0.  0.  0.  0.  0.]\n",
      " [ 0.  0.  6.  0.  0.  0.  0.  0.  0.  0.]\n",
      " [ 0.  1.  0.  4.  0.  0.  0.  0.  1.  0.]\n",
      " [ 0.  0.  1.  0.  4.  0.  0.  0.  0.  1.]\n",
      " [ 0.  0.  0.  1.  0.  5.  0.  0.  0.  0.]\n",
      " [ 0.  1.  1.  0.  0.  0.  3.  0.  1.  0.]\n",
      " [ 0.  0.  0.  0.  2.  0.  0.  3.  0.  1.]\n",
      " [ 0.  0.  0.  2.  0.  0.  0.  0.  3.  1.]\n",
      " [ 0.  0.  0.  0.  1.  1.  0.  1.  0.  3.]]\n"
     ]
    }
   ],
   "source": [
    "for nc in range(100,200,10):\n",
    "    X = SpectralEmbedding(n_components=nc,affinity='rbf').fit_transform(feature)\n",
    "    # initialize kmeans with mean of seeds\n",
    "    ip = np.vstack(np.mean(X[seed[seed[:,1] == i,0] - 1,:], axis = 0) for i in range(10))\n",
    "    # kmeans\n",
    "    kmeans = KMeans(n_clusters = 10, init = ip, random_state = 0).fit(X)\n",
    "    # kmeans result of seeds\n",
    "    r1 = np.hstack((seed, np.reshape(kmeans.labels_[seed[:,0] - 1],(len(seed),1))))\n",
    "    print nc, sum(r1[:,1] == r1[:,2])/(1.0*len(r1))\n",
    "    confm = np.zeros((10,10))\n",
    "    for i in range(len(r1)):\n",
    "        confm[r1[i,1],r1[i,2]] += 1\n",
    "    print confm"
   ]
  },
  {
   "cell_type": "code",
   "execution_count": 37,
   "metadata": {},
   "outputs": [
    {
     "name": "stdout",
     "output_type": "stream",
     "text": [
      "30 0.6\n",
      "[[ 3.  0.  0.  0.  0.  3.  0.  0.  0.  0.]\n",
      " [ 0.  6.  0.  0.  0.  0.  0.  0.  0.  0.]\n",
      " [ 0.  0.  6.  0.  0.  0.  0.  0.  0.  0.]\n",
      " [ 0.  0.  0.  5.  0.  0.  0.  0.  1.  0.]\n",
      " [ 0.  0.  0.  0.  4.  0.  0.  0.  0.  2.]\n",
      " [ 0.  0.  0.  1.  0.  2.  0.  1.  1.  1.]\n",
      " [ 1.  0.  0.  0.  0.  1.  2.  0.  2.  0.]\n",
      " [ 0.  0.  0.  0.  0.  0.  0.  4.  2.  0.]\n",
      " [ 0.  0.  0.  3.  0.  1.  0.  0.  1.  1.]\n",
      " [ 0.  0.  0.  0.  1.  0.  0.  0.  2.  3.]]\n",
      "40 0.666666666667\n",
      "[[ 5.  0.  0.  0.  0.  1.  0.  0.  0.  0.]\n",
      " [ 0.  6.  0.  0.  0.  0.  0.  0.  0.  0.]\n",
      " [ 0.  0.  6.  0.  0.  0.  0.  0.  0.  0.]\n",
      " [ 0.  0.  0.  5.  0.  1.  0.  0.  0.  0.]\n",
      " [ 0.  0.  0.  0.  3.  1.  0.  0.  0.  2.]\n",
      " [ 0.  0.  0.  1.  1.  4.  0.  0.  0.  0.]\n",
      " [ 1.  0.  0.  0.  0.  2.  3.  0.  0.  0.]\n",
      " [ 0.  0.  0.  0.  0.  2.  0.  4.  0.  0.]\n",
      " [ 0.  0.  0.  1.  0.  4.  0.  0.  1.  0.]\n",
      " [ 0.  0.  0.  0.  1.  2.  0.  0.  0.  3.]]\n",
      "50 0.65\n",
      "[[ 5.  0.  0.  0.  0.  1.  0.  0.  0.  0.]\n",
      " [ 0.  6.  0.  0.  0.  0.  0.  0.  0.  0.]\n",
      " [ 0.  0.  6.  0.  0.  0.  0.  0.  0.  0.]\n",
      " [ 0.  0.  0.  5.  0.  1.  0.  0.  0.  0.]\n",
      " [ 0.  0.  0.  0.  3.  2.  0.  0.  0.  1.]\n",
      " [ 0.  0.  0.  1.  1.  3.  0.  0.  0.  1.]\n",
      " [ 1.  0.  0.  0.  0.  2.  3.  0.  0.  0.]\n",
      " [ 0.  0.  0.  0.  0.  2.  0.  4.  0.  0.]\n",
      " [ 0.  0.  0.  2.  0.  3.  0.  0.  1.  0.]\n",
      " [ 0.  0.  0.  0.  1.  2.  0.  0.  0.  3.]]\n",
      "60 0.666666666667\n",
      "[[ 5.  0.  0.  0.  0.  1.  0.  0.  0.  0.]\n",
      " [ 0.  6.  0.  0.  0.  0.  0.  0.  0.  0.]\n",
      " [ 0.  0.  5.  1.  0.  0.  0.  0.  0.  0.]\n",
      " [ 0.  0.  0.  5.  0.  1.  0.  0.  0.  0.]\n",
      " [ 0.  0.  0.  0.  3.  2.  0.  0.  0.  1.]\n",
      " [ 0.  0.  0.  1.  0.  5.  0.  0.  0.  0.]\n",
      " [ 1.  0.  0.  0.  0.  2.  3.  0.  0.  0.]\n",
      " [ 0.  0.  0.  0.  0.  2.  0.  4.  0.  0.]\n",
      " [ 1.  0.  0.  1.  0.  3.  0.  0.  1.  0.]\n",
      " [ 0.  0.  0.  0.  1.  2.  0.  0.  0.  3.]]\n"
     ]
    },
    {
     "ename": "KeyboardInterrupt",
     "evalue": "",
     "output_type": "error",
     "traceback": [
      "\u001b[1;31m---------------------------------------------------------------------------\u001b[0m",
      "\u001b[1;31mKeyboardInterrupt\u001b[0m                         Traceback (most recent call last)",
      "\u001b[1;32m<ipython-input-37-331004b099c4>\u001b[0m in \u001b[0;36m<module>\u001b[1;34m()\u001b[0m\n\u001b[0;32m      1\u001b[0m \u001b[1;32mfor\u001b[0m \u001b[0mnc\u001b[0m \u001b[1;32min\u001b[0m \u001b[0mrange\u001b[0m\u001b[1;33m(\u001b[0m\u001b[1;36m30\u001b[0m\u001b[1;33m,\u001b[0m\u001b[1;36m100\u001b[0m\u001b[1;33m,\u001b[0m\u001b[1;36m10\u001b[0m\u001b[1;33m)\u001b[0m\u001b[1;33m:\u001b[0m\u001b[1;33m\u001b[0m\u001b[0m\n\u001b[1;32m----> 2\u001b[1;33m     \u001b[0mX\u001b[0m \u001b[1;33m=\u001b[0m \u001b[0mSpectralEmbedding\u001b[0m\u001b[1;33m(\u001b[0m\u001b[0mn_components\u001b[0m\u001b[1;33m=\u001b[0m\u001b[0mnc\u001b[0m\u001b[1;33m,\u001b[0m\u001b[0maffinity\u001b[0m\u001b[1;33m=\u001b[0m\u001b[1;34m'nearest_neighbors'\u001b[0m\u001b[1;33m)\u001b[0m\u001b[1;33m.\u001b[0m\u001b[0mfit_transform\u001b[0m\u001b[1;33m(\u001b[0m\u001b[0mfeature\u001b[0m\u001b[1;33m)\u001b[0m\u001b[1;33m\u001b[0m\u001b[0m\n\u001b[0m\u001b[0;32m      3\u001b[0m     \u001b[1;31m# initialize kmeans with mean of seeds\u001b[0m\u001b[1;33m\u001b[0m\u001b[1;33m\u001b[0m\u001b[0m\n\u001b[0;32m      4\u001b[0m     \u001b[0mip\u001b[0m \u001b[1;33m=\u001b[0m \u001b[0mnp\u001b[0m\u001b[1;33m.\u001b[0m\u001b[0mvstack\u001b[0m\u001b[1;33m(\u001b[0m\u001b[0mnp\u001b[0m\u001b[1;33m.\u001b[0m\u001b[0mmean\u001b[0m\u001b[1;33m(\u001b[0m\u001b[0mX\u001b[0m\u001b[1;33m[\u001b[0m\u001b[0mseed\u001b[0m\u001b[1;33m[\u001b[0m\u001b[0mseed\u001b[0m\u001b[1;33m[\u001b[0m\u001b[1;33m:\u001b[0m\u001b[1;33m,\u001b[0m\u001b[1;36m1\u001b[0m\u001b[1;33m]\u001b[0m \u001b[1;33m==\u001b[0m \u001b[0mi\u001b[0m\u001b[1;33m,\u001b[0m\u001b[1;36m0\u001b[0m\u001b[1;33m]\u001b[0m \u001b[1;33m-\u001b[0m \u001b[1;36m1\u001b[0m\u001b[1;33m,\u001b[0m\u001b[1;33m:\u001b[0m\u001b[1;33m]\u001b[0m\u001b[1;33m,\u001b[0m \u001b[0maxis\u001b[0m \u001b[1;33m=\u001b[0m \u001b[1;36m0\u001b[0m\u001b[1;33m)\u001b[0m \u001b[1;32mfor\u001b[0m \u001b[0mi\u001b[0m \u001b[1;32min\u001b[0m \u001b[0mrange\u001b[0m\u001b[1;33m(\u001b[0m\u001b[1;36m10\u001b[0m\u001b[1;33m)\u001b[0m\u001b[1;33m)\u001b[0m\u001b[1;33m\u001b[0m\u001b[0m\n\u001b[0;32m      5\u001b[0m     \u001b[1;31m# kmeans\u001b[0m\u001b[1;33m\u001b[0m\u001b[1;33m\u001b[0m\u001b[0m\n",
      "\u001b[1;32mC:\\Users\\dancyfang\\Anaconda2\\lib\\site-packages\\sklearn\\manifold\\spectral_embedding_.pyc\u001b[0m in \u001b[0;36mfit_transform\u001b[1;34m(self, X, y)\u001b[0m\n\u001b[0;32m    508\u001b[0m         \u001b[0mX_new\u001b[0m\u001b[1;33m:\u001b[0m \u001b[0marray\u001b[0m\u001b[1;33m-\u001b[0m\u001b[0mlike\u001b[0m\u001b[1;33m,\u001b[0m \u001b[0mshape\u001b[0m \u001b[1;33m(\u001b[0m\u001b[0mn_samples\u001b[0m\u001b[1;33m,\u001b[0m \u001b[0mn_components\u001b[0m\u001b[1;33m)\u001b[0m\u001b[1;33m\u001b[0m\u001b[0m\n\u001b[0;32m    509\u001b[0m         \"\"\"\n\u001b[1;32m--> 510\u001b[1;33m         \u001b[0mself\u001b[0m\u001b[1;33m.\u001b[0m\u001b[0mfit\u001b[0m\u001b[1;33m(\u001b[0m\u001b[0mX\u001b[0m\u001b[1;33m)\u001b[0m\u001b[1;33m\u001b[0m\u001b[0m\n\u001b[0m\u001b[0;32m    511\u001b[0m         \u001b[1;32mreturn\u001b[0m \u001b[0mself\u001b[0m\u001b[1;33m.\u001b[0m\u001b[0membedding_\u001b[0m\u001b[1;33m\u001b[0m\u001b[0m\n",
      "\u001b[1;32mC:\\Users\\dancyfang\\Anaconda2\\lib\\site-packages\\sklearn\\manifold\\spectral_embedding_.pyc\u001b[0m in \u001b[0;36mfit\u001b[1;34m(self, X, y)\u001b[0m\n\u001b[0;32m    487\u001b[0m                                              \u001b[0mn_components\u001b[0m\u001b[1;33m=\u001b[0m\u001b[0mself\u001b[0m\u001b[1;33m.\u001b[0m\u001b[0mn_components\u001b[0m\u001b[1;33m,\u001b[0m\u001b[1;33m\u001b[0m\u001b[0m\n\u001b[0;32m    488\u001b[0m                                              \u001b[0meigen_solver\u001b[0m\u001b[1;33m=\u001b[0m\u001b[0mself\u001b[0m\u001b[1;33m.\u001b[0m\u001b[0meigen_solver\u001b[0m\u001b[1;33m,\u001b[0m\u001b[1;33m\u001b[0m\u001b[0m\n\u001b[1;32m--> 489\u001b[1;33m                                              random_state=random_state)\n\u001b[0m\u001b[0;32m    490\u001b[0m         \u001b[1;32mreturn\u001b[0m \u001b[0mself\u001b[0m\u001b[1;33m\u001b[0m\u001b[0m\n\u001b[0;32m    491\u001b[0m \u001b[1;33m\u001b[0m\u001b[0m\n",
      "\u001b[1;32mC:\\Users\\dancyfang\\Anaconda2\\lib\\site-packages\\sklearn\\manifold\\spectral_embedding_.pyc\u001b[0m in \u001b[0;36mspectral_embedding\u001b[1;34m(adjacency, n_components, eigen_solver, random_state, eigen_tol, norm_laplacian, drop_first)\u001b[0m\n\u001b[0;32m    263\u001b[0m             lambdas, diffusion_map = eigsh(laplacian, k=n_components,\n\u001b[0;32m    264\u001b[0m                                            \u001b[0msigma\u001b[0m\u001b[1;33m=\u001b[0m\u001b[1;36m1.0\u001b[0m\u001b[1;33m,\u001b[0m \u001b[0mwhich\u001b[0m\u001b[1;33m=\u001b[0m\u001b[1;34m'LM'\u001b[0m\u001b[1;33m,\u001b[0m\u001b[1;33m\u001b[0m\u001b[0m\n\u001b[1;32m--> 265\u001b[1;33m                                            tol=eigen_tol, v0=v0)\n\u001b[0m\u001b[0;32m    266\u001b[0m             \u001b[0membedding\u001b[0m \u001b[1;33m=\u001b[0m \u001b[0mdiffusion_map\u001b[0m\u001b[1;33m.\u001b[0m\u001b[0mT\u001b[0m\u001b[1;33m[\u001b[0m\u001b[0mn_components\u001b[0m\u001b[1;33m:\u001b[0m\u001b[1;33m:\u001b[0m\u001b[1;33m-\u001b[0m\u001b[1;36m1\u001b[0m\u001b[1;33m]\u001b[0m \u001b[1;33m*\u001b[0m \u001b[0mdd\u001b[0m\u001b[1;33m\u001b[0m\u001b[0m\n\u001b[0;32m    267\u001b[0m         \u001b[1;32mexcept\u001b[0m \u001b[0mRuntimeError\u001b[0m\u001b[1;33m:\u001b[0m\u001b[1;33m\u001b[0m\u001b[0m\n",
      "\u001b[1;32mC:\\Users\\dancyfang\\Anaconda2\\lib\\site-packages\\scipy\\sparse\\linalg\\eigen\\arpack\\arpack.pyc\u001b[0m in \u001b[0;36meigsh\u001b[1;34m(A, k, M, sigma, which, v0, ncv, maxiter, tol, return_eigenvectors, Minv, OPinv, mode)\u001b[0m\n\u001b[0;32m   1603\u001b[0m     \u001b[1;32mwith\u001b[0m \u001b[0m_ARPACK_LOCK\u001b[0m\u001b[1;33m:\u001b[0m\u001b[1;33m\u001b[0m\u001b[0m\n\u001b[0;32m   1604\u001b[0m         \u001b[1;32mwhile\u001b[0m \u001b[1;32mnot\u001b[0m \u001b[0mparams\u001b[0m\u001b[1;33m.\u001b[0m\u001b[0mconverged\u001b[0m\u001b[1;33m:\u001b[0m\u001b[1;33m\u001b[0m\u001b[0m\n\u001b[1;32m-> 1605\u001b[1;33m             \u001b[0mparams\u001b[0m\u001b[1;33m.\u001b[0m\u001b[0miterate\u001b[0m\u001b[1;33m(\u001b[0m\u001b[1;33m)\u001b[0m\u001b[1;33m\u001b[0m\u001b[0m\n\u001b[0m\u001b[0;32m   1606\u001b[0m \u001b[1;33m\u001b[0m\u001b[0m\n\u001b[0;32m   1607\u001b[0m         \u001b[1;32mreturn\u001b[0m \u001b[0mparams\u001b[0m\u001b[1;33m.\u001b[0m\u001b[0mextract\u001b[0m\u001b[1;33m(\u001b[0m\u001b[0mreturn_eigenvectors\u001b[0m\u001b[1;33m)\u001b[0m\u001b[1;33m\u001b[0m\u001b[0m\n",
      "\u001b[1;32mC:\\Users\\dancyfang\\Anaconda2\\lib\\site-packages\\scipy\\sparse\\linalg\\eigen\\arpack\\arpack.pyc\u001b[0m in \u001b[0;36miterate\u001b[1;34m(self)\u001b[0m\n\u001b[0;32m    556\u001b[0m             \u001b[1;32melse\u001b[0m\u001b[1;33m:\u001b[0m\u001b[1;33m\u001b[0m\u001b[0m\n\u001b[0;32m    557\u001b[0m                 \u001b[0mBxslice\u001b[0m \u001b[1;33m=\u001b[0m \u001b[0mslice\u001b[0m\u001b[1;33m(\u001b[0m\u001b[0mself\u001b[0m\u001b[1;33m.\u001b[0m\u001b[0mipntr\u001b[0m\u001b[1;33m[\u001b[0m\u001b[1;36m2\u001b[0m\u001b[1;33m]\u001b[0m \u001b[1;33m-\u001b[0m \u001b[1;36m1\u001b[0m\u001b[1;33m,\u001b[0m \u001b[0mself\u001b[0m\u001b[1;33m.\u001b[0m\u001b[0mipntr\u001b[0m\u001b[1;33m[\u001b[0m\u001b[1;36m2\u001b[0m\u001b[1;33m]\u001b[0m \u001b[1;33m-\u001b[0m \u001b[1;36m1\u001b[0m \u001b[1;33m+\u001b[0m \u001b[0mself\u001b[0m\u001b[1;33m.\u001b[0m\u001b[0mn\u001b[0m\u001b[1;33m)\u001b[0m\u001b[1;33m\u001b[0m\u001b[0m\n\u001b[1;32m--> 558\u001b[1;33m                 \u001b[0mself\u001b[0m\u001b[1;33m.\u001b[0m\u001b[0mworkd\u001b[0m\u001b[1;33m[\u001b[0m\u001b[0myslice\u001b[0m\u001b[1;33m]\u001b[0m \u001b[1;33m=\u001b[0m \u001b[0mself\u001b[0m\u001b[1;33m.\u001b[0m\u001b[0mOPa\u001b[0m\u001b[1;33m(\u001b[0m\u001b[0mself\u001b[0m\u001b[1;33m.\u001b[0m\u001b[0mworkd\u001b[0m\u001b[1;33m[\u001b[0m\u001b[0mBxslice\u001b[0m\u001b[1;33m]\u001b[0m\u001b[1;33m)\u001b[0m\u001b[1;33m\u001b[0m\u001b[0m\n\u001b[0m\u001b[0;32m    559\u001b[0m         \u001b[1;32melif\u001b[0m \u001b[0mself\u001b[0m\u001b[1;33m.\u001b[0m\u001b[0mido\u001b[0m \u001b[1;33m==\u001b[0m \u001b[1;36m2\u001b[0m\u001b[1;33m:\u001b[0m\u001b[1;33m\u001b[0m\u001b[0m\n\u001b[0;32m    560\u001b[0m             \u001b[0mself\u001b[0m\u001b[1;33m.\u001b[0m\u001b[0mworkd\u001b[0m\u001b[1;33m[\u001b[0m\u001b[0myslice\u001b[0m\u001b[1;33m]\u001b[0m \u001b[1;33m=\u001b[0m \u001b[0mself\u001b[0m\u001b[1;33m.\u001b[0m\u001b[0mB\u001b[0m\u001b[1;33m(\u001b[0m\u001b[0mself\u001b[0m\u001b[1;33m.\u001b[0m\u001b[0mworkd\u001b[0m\u001b[1;33m[\u001b[0m\u001b[0mxslice\u001b[0m\u001b[1;33m]\u001b[0m\u001b[1;33m)\u001b[0m\u001b[1;33m\u001b[0m\u001b[0m\n",
      "\u001b[1;32mC:\\Users\\dancyfang\\Anaconda2\\lib\\site-packages\\scipy\\sparse\\linalg\\interface.pyc\u001b[0m in \u001b[0;36mmatvec\u001b[1;34m(self, x)\u001b[0m\n\u001b[0;32m    217\u001b[0m             \u001b[1;32mraise\u001b[0m \u001b[0mValueError\u001b[0m\u001b[1;33m(\u001b[0m\u001b[1;34m'dimension mismatch'\u001b[0m\u001b[1;33m)\u001b[0m\u001b[1;33m\u001b[0m\u001b[0m\n\u001b[0;32m    218\u001b[0m \u001b[1;33m\u001b[0m\u001b[0m\n\u001b[1;32m--> 219\u001b[1;33m         \u001b[0my\u001b[0m \u001b[1;33m=\u001b[0m \u001b[0mself\u001b[0m\u001b[1;33m.\u001b[0m\u001b[0m_matvec\u001b[0m\u001b[1;33m(\u001b[0m\u001b[0mx\u001b[0m\u001b[1;33m)\u001b[0m\u001b[1;33m\u001b[0m\u001b[0m\n\u001b[0m\u001b[0;32m    220\u001b[0m \u001b[1;33m\u001b[0m\u001b[0m\n\u001b[0;32m    221\u001b[0m         \u001b[1;32mif\u001b[0m \u001b[0misinstance\u001b[0m\u001b[1;33m(\u001b[0m\u001b[0mx\u001b[0m\u001b[1;33m,\u001b[0m \u001b[0mnp\u001b[0m\u001b[1;33m.\u001b[0m\u001b[0mmatrix\u001b[0m\u001b[1;33m)\u001b[0m\u001b[1;33m:\u001b[0m\u001b[1;33m\u001b[0m\u001b[0m\n",
      "\u001b[1;32mC:\\Users\\dancyfang\\Anaconda2\\lib\\site-packages\\scipy\\sparse\\linalg\\eigen\\arpack\\arpack.pyc\u001b[0m in \u001b[0;36m_matvec\u001b[1;34m(self, x)\u001b[0m\n\u001b[0;32m    918\u001b[0m                     + 1j * self.M_lu.solve(np.imag(x).astype(self.dtype)))\n\u001b[0;32m    919\u001b[0m         \u001b[1;32melse\u001b[0m\u001b[1;33m:\u001b[0m\u001b[1;33m\u001b[0m\u001b[0m\n\u001b[1;32m--> 920\u001b[1;33m             \u001b[1;32mreturn\u001b[0m \u001b[0mself\u001b[0m\u001b[1;33m.\u001b[0m\u001b[0mM_lu\u001b[0m\u001b[1;33m.\u001b[0m\u001b[0msolve\u001b[0m\u001b[1;33m(\u001b[0m\u001b[0mx\u001b[0m\u001b[1;33m.\u001b[0m\u001b[0mastype\u001b[0m\u001b[1;33m(\u001b[0m\u001b[0mself\u001b[0m\u001b[1;33m.\u001b[0m\u001b[0mdtype\u001b[0m\u001b[1;33m)\u001b[0m\u001b[1;33m)\u001b[0m\u001b[1;33m\u001b[0m\u001b[0m\n\u001b[0m\u001b[0;32m    921\u001b[0m \u001b[1;33m\u001b[0m\u001b[0m\n\u001b[0;32m    922\u001b[0m \u001b[1;33m\u001b[0m\u001b[0m\n",
      "\u001b[1;31mKeyboardInterrupt\u001b[0m: "
     ]
    }
   ],
   "source": [
    "for nc in range(30,100,10):\n",
    "    X = SpectralEmbedding(n_components=nc,affinity='nearest_neighbors').fit_transform(feature)\n",
    "    # initialize kmeans with mean of seeds\n",
    "    ip = np.vstack(np.mean(X[seed[seed[:,1] == i,0] - 1,:], axis = 0) for i in range(10))\n",
    "    # kmeans\n",
    "    kmeans = KMeans(n_clusters = 10, init = ip, random_state = 0).fit(X)\n",
    "    # kmeans result of seeds\n",
    "    r1 = np.hstack((seed, np.reshape(kmeans.labels_[seed[:,0] - 1],(len(seed),1))))\n",
    "    print nc, sum(r1[:,1] == r1[:,2])/(1.0*len(r1))\n",
    "    confm = np.zeros((10,10))\n",
    "    for i in range(len(r1)):\n",
    "        confm[r1[i,1],r1[i,2]] += 1\n",
    "    print confm"
   ]
  },
  {
   "cell_type": "code",
   "execution_count": 35,
   "metadata": {},
   "outputs": [
    {
     "data": {
      "text/plain": [
       "array([[ 5.,  0.,  0.,  0.,  0.,  1.,  0.,  0.,  0.,  0.],\n",
       "       [ 0.,  6.,  0.,  0.,  0.,  0.,  0.,  0.,  0.,  0.],\n",
       "       [ 0.,  0.,  6.,  0.,  0.,  0.,  0.,  0.,  0.,  0.],\n",
       "       [ 0.,  0.,  0.,  5.,  0.,  1.,  0.,  0.,  0.,  0.],\n",
       "       [ 0.,  0.,  0.,  0.,  3.,  1.,  0.,  0.,  0.,  2.],\n",
       "       [ 0.,  0.,  0.,  1.,  1.,  4.,  0.,  0.,  0.,  0.],\n",
       "       [ 1.,  0.,  0.,  0.,  0.,  2.,  3.,  0.,  0.,  0.],\n",
       "       [ 0.,  0.,  0.,  0.,  0.,  2.,  0.,  4.,  0.,  0.],\n",
       "       [ 0.,  0.,  0.,  1.,  0.,  4.,  0.,  0.,  1.,  0.],\n",
       "       [ 0.,  0.,  0.,  0.,  1.,  2.,  0.,  0.,  0.,  3.]])"
      ]
     },
     "execution_count": 35,
     "metadata": {},
     "output_type": "execute_result"
    }
   ],
   "source": [
    "confm = np.zeros((10,10))\n",
    "for i in range(len(r1)):\n",
    "    confm[r1[i,1],r1[i,2]] += 1\n",
    "confm"
   ]
  },
  {
   "cell_type": "code",
   "execution_count": 6,
   "metadata": {},
   "outputs": [
    {
     "data": {
      "text/plain": [
       "(4000L,)"
      ]
     },
     "execution_count": 6,
     "metadata": {},
     "output_type": "execute_result"
    }
   ],
   "source": [
    "result = kmeans.labels_[n:]\n",
    "sum(result[])"
   ]
  },
  {
   "cell_type": "code",
   "execution_count": 7,
   "metadata": {
    "collapsed": true
   },
   "outputs": [],
   "source": [
    "# save to txt\n",
    "r = np.hstack((np.reshape([i+n+1 for i in range(N-n)],(N-n,1)), np.reshape(result,(N-n,1))))\n",
    "np.savetxt('result3.csv', r, delimiter = ',', fmt = '%d', header = \"Id,Label\", comments = '')"
   ]
  }
 ],
 "metadata": {
  "kernelspec": {
   "display_name": "Python 2",
   "language": "python",
   "name": "python2"
  },
  "language_info": {
   "codemirror_mode": {
    "name": "ipython",
    "version": 2
   },
   "file_extension": ".py",
   "mimetype": "text/x-python",
   "name": "python",
   "nbconvert_exporter": "python",
   "pygments_lexer": "ipython2",
   "version": "2.7.13"
  }
 },
 "nbformat": 4,
 "nbformat_minor": 2
}
